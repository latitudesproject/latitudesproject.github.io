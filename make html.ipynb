{
 "cells": [
  {
   "cell_type": "code",
   "execution_count": 2,
   "metadata": {},
   "outputs": [],
   "source": [
    "# write output file\n",
    "# write each line from the starter file\n",
    "# for each entry in the csv:\n",
    "# for the first, just make a marker\n",
    "# for every other entry, make a marker and a polygon from the previous line \n"
   ]
  },
  {
   "cell_type": "code",
   "execution_count": 2,
   "metadata": {},
   "outputs": [],
   "source": [
    "import csv\n",
    "with open('wob_map.js', 'w+') as outfile:\n",
    "    outfile.write(\"var mymap = L.map('mapid').setView([39.8, -98.56], 4); \\n\")\n",
    "    outfile.write(\"L.tileLayer('http://{s}.basemaps.cartocdn.com/light_nolabels/{z}/{x}/{y}.png', { \\\n",
    "    attribution: '©OpenStreetMap, ©CartoDB'}).addTo(mymap); \\n\")\n",
    "    with open('locations.csv') as csvfile:\n",
    "        reader = csv.DictReader(csvfile)\n",
    "        prev = None\n",
    "        for row in reader:\n",
    "            lat = str(row['Latitude'])\n",
    "            lon = str(row['Longitude'])\n",
    "            if len(lon) is 0: continue\n",
    "            outfile.write(\"L.marker([\" + str(lat) + \", -\" + str(lon)+\"], {icon: icon}).addTo(mymap).bindPopup(\" + \n",
    "                 '\\'<a href=\"' + row['Link'] + '\"> ' + row['Date'] + \"</a>'); \\n\")\n",
    "            if prev is not None:\n",
    "                outfile.write(\"L.polygon([[\" + prev[0] + \", -\" + prev[1] + \"], [\" + lat + \", -\" + lon + \"]], \" + \n",
    "                      \"{color: 'grey'}).addTo(mymap); \\n\")\n",
    "            prev = (lat, lon)"
   ]
  },
  {
   "cell_type": "code",
   "execution_count": null,
   "metadata": {},
   "outputs": [],
   "source": []
  }
 ],
 "metadata": {
  "kernelspec": {
   "display_name": "Python 2",
   "language": "python",
   "name": "python2"
  },
  "language_info": {
   "codemirror_mode": {
    "name": "ipython",
    "version": 2
   },
   "file_extension": ".py",
   "mimetype": "text/x-python",
   "name": "python",
   "nbconvert_exporter": "python",
   "pygments_lexer": "ipython2",
   "version": "2.7.15"
  }
 },
 "nbformat": 4,
 "nbformat_minor": 2
}
